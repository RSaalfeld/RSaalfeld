{
 "cells": [
  {
   "cell_type": "markdown",
   "id": "c0ce649a",
   "metadata": {},
   "source": [
    "# Importação de pacotes"
   ]
  },
  {
   "cell_type": "code",
   "execution_count": 1,
   "id": "afd85ffa",
   "metadata": {
    "ExecuteTime": {
     "end_time": "2024-02-26T19:40:57.859581Z",
     "start_time": "2024-02-26T19:40:54.803345Z"
    }
   },
   "outputs": [],
   "source": [
    "import pandas as pd\n",
    "import numpy as np\n",
    "from datetime import datetime\n",
    "import matplotlib.pyplot as plt\n",
    "import seaborn as sns\n",
    "import os"
   ]
  },
  {
   "cell_type": "markdown",
   "id": "f08cb8d7",
   "metadata": {
    "ExecuteTime": {
     "end_time": "2024-02-26T19:41:49.511054Z",
     "start_time": "2024-02-26T19:41:49.500602Z"
    }
   },
   "source": [
    "# Como definir uma classe em Python:"
   ]
  },
  {
   "cell_type": "markdown",
   "id": "bfd0677e",
   "metadata": {},
   "source": [
    "Em Python criamos usando a palavra-chave \"class\".\n",
    "\n",
    "Então usamos .__init__() para declarar os atributos que cada instância da classe deve ter"
   ]
  },
  {
   "cell_type": "code",
   "execution_count": 12,
   "id": "97ac2efd",
   "metadata": {
    "ExecuteTime": {
     "end_time": "2024-02-26T19:55:56.518179Z",
     "start_time": "2024-02-26T19:55:56.496843Z"
    }
   },
   "outputs": [],
   "source": [
    "class Empregado:\n",
    "    def __init__(self,name,age):\n",
    "        self.name = name\n",
    "        self.age = age"
   ]
  },
  {
   "cell_type": "markdown",
   "id": "1e5f0e3c",
   "metadata": {},
   "source": [
    "Vamos definir uma classe para um cachorro.\n",
    "As propriedades da classe dog são definidas em um método chamado .__init__(). Cada vez que criamos um objeto Dog, .__init__() configura o estado inicial do objeto ao atribuir os valores das propriedades do objeto. Ou seja, .__init__() inicializa cada nova instância da classe.\n",
    "\n",
    "Quando você cria uma nova instância, o Python automaticamente passa a instância para o parâmetro _self_ em .__init__() de forma que o Python define os novos atributos do objeto."
   ]
  },
  {
   "cell_type": "code",
   "execution_count": 13,
   "id": "54062137",
   "metadata": {
    "ExecuteTime": {
     "end_time": "2024-02-26T20:06:41.291055Z",
     "start_time": "2024-02-26T20:06:41.267502Z"
    }
   },
   "outputs": [],
   "source": [
    "class Dog:\n",
    "    def __init__(self,name,age):\n",
    "        #Criar um atributo chamado name e atribuir o valor do parâmetro name\n",
    "        self.name = name\n",
    "        #Mesmo com a idade\n",
    "        self.age = age"
   ]
  },
  {
   "cell_type": "markdown",
   "id": "547b2994",
   "metadata": {},
   "source": [
    "Atributos criados em __init__() são _atributos de instância_.\n",
    "\n",
    "Eles são específicos para uma instância da classe, ou seja, todos os dogs têm nomes, mas cada um tem o seu.\n",
    "\n",
    "_Atributos de classe_ têm o mesmo valor para todas as instâncias da classe."
   ]
  },
  {
   "cell_type": "code",
   "execution_count": 25,
   "id": "d62a923e",
   "metadata": {
    "ExecuteTime": {
     "end_time": "2024-02-26T20:55:32.950680Z",
     "start_time": "2024-02-26T20:55:32.926493Z"
    }
   },
   "outputs": [],
   "source": [
    "class Dog:\n",
    "    species = \"Canis familiaris\"\n",
    "    def __init__(self,name,age):\n",
    "        #Criar um atributo chamado name e atribuir o valor do parâmetro name\n",
    "        self.name = name\n",
    "        #Mesmo com a idade\n",
    "        self.age = age\n",
    "    \n",
    "    #Métodos de instâncias são funções definidas dentro de uma classe \n",
    "    #e que só pode ser chamadas em uma instância dessa classe\n",
    "    \n",
    "    def description(self):\n",
    "        return f\"{self.name} tem {self.age} anos de idade\"\n",
    "    \n",
    "    def speak(self,sound):\n",
    "        return f\"{self.name} diz {sound}\"\n",
    "    "
   ]
  },
  {
   "cell_type": "markdown",
   "id": "58548ccc",
   "metadata": {},
   "source": [
    "Ao printar uma instância, não obtemos informações muito relevantes."
   ]
  },
  {
   "cell_type": "code",
   "execution_count": 26,
   "id": "ca69ad49",
   "metadata": {
    "ExecuteTime": {
     "end_time": "2024-02-26T20:55:51.490244Z",
     "start_time": "2024-02-26T20:55:51.461852Z"
    }
   },
   "outputs": [],
   "source": [
    "olaf = Dog(\"Olaf\",2)"
   ]
  },
  {
   "cell_type": "code",
   "execution_count": 29,
   "id": "8a4fb51a",
   "metadata": {
    "ExecuteTime": {
     "end_time": "2024-02-26T20:58:11.363555Z",
     "start_time": "2024-02-26T20:58:11.339361Z"
    }
   },
   "outputs": [
    {
     "name": "stdout",
     "output_type": "stream",
     "text": [
      "<__main__.Dog object at 0x00000206DE4F1130>\n"
     ]
    }
   ],
   "source": [
    "print(olaf)"
   ]
  },
  {
   "cell_type": "markdown",
   "id": "d5c4f408",
   "metadata": {},
   "source": [
    "Para isso, podemos usar um método de instância especial chamado .__str__():"
   ]
  },
  {
   "cell_type": "code",
   "execution_count": 30,
   "id": "1409c8e8",
   "metadata": {
    "ExecuteTime": {
     "end_time": "2024-02-26T21:00:14.800771Z",
     "start_time": "2024-02-26T21:00:14.772258Z"
    }
   },
   "outputs": [],
   "source": [
    "class Dog:\n",
    "    species = \"Canis familiaris\"\n",
    "    def __init__(self,name,age):\n",
    "        #Criar um atributo chamado name e atribuir o valor do parâmetro name\n",
    "        self.name = name\n",
    "        #Mesmo com a idade\n",
    "        self.age = age\n",
    "    \n",
    "    #Métodos de instâncias são funções definidas dentro de uma classe \n",
    "    #e que só pode ser chamadas em uma instância dessa classe\n",
    "    \n",
    "#     def description(self):\n",
    "#         return f\"{self.name} tem {self.age} anos de idade\"\n",
    "    def __str__(self):\n",
    "        return f\"{self.name} tem {self.age} anos de idade\"\n",
    "    \n",
    "    def speak(self,sound):\n",
    "        return f\"{self.name} diz {sound}\""
   ]
  },
  {
   "cell_type": "code",
   "execution_count": 31,
   "id": "91bc8f55",
   "metadata": {
    "ExecuteTime": {
     "end_time": "2024-02-26T21:00:32.812378Z",
     "start_time": "2024-02-26T21:00:32.798909Z"
    }
   },
   "outputs": [],
   "source": [
    "olaf = Dog(\"Olaf\",2)"
   ]
  },
  {
   "cell_type": "code",
   "execution_count": 33,
   "id": "d6a13f46",
   "metadata": {
    "ExecuteTime": {
     "end_time": "2024-02-26T21:01:07.117970Z",
     "start_time": "2024-02-26T21:01:07.104521Z"
    }
   },
   "outputs": [
    {
     "name": "stdout",
     "output_type": "stream",
     "text": [
      "Olaf tem 2 anos de idade\n"
     ]
    }
   ],
   "source": [
    "print(olaf)"
   ]
  },
  {
   "cell_type": "markdown",
   "id": "61faf0f3",
   "metadata": {},
   "source": [
    "# Dia 2: \n",
    "* Relembrando conceitos;\n",
    "* Aprendendo sobre heranças;"
   ]
  },
  {
   "cell_type": "markdown",
   "id": "c3344156",
   "metadata": {},
   "source": [
    "## Relembrando conceitos"
   ]
  },
  {
   "cell_type": "code",
   "execution_count": 13,
   "id": "898bd1a5",
   "metadata": {
    "ExecuteTime": {
     "end_time": "2024-02-27T20:50:46.524562Z",
     "start_time": "2024-02-27T20:50:46.511546Z"
    }
   },
   "outputs": [],
   "source": [
    "'''Vamos definir uma classe Dog.\n",
    "Essa classe deve tomar dois atributos de instância (nome, idade) e um atributo de classe (espécie)\n",
    "Vamos acrescentar também um método de classe para descrição\n",
    "'''''\n",
    "\n",
    "class Dog:\n",
    "    species = \"Canis familiaris\"\n",
    "    def __init__(self,name,age):\n",
    "        #nome do doguinho\n",
    "        self.name = name\n",
    "        #idade do doguinho\n",
    "        self.age = age\n",
    "    \n",
    "    def __str__(self):\n",
    "        return f\"{self.name} tem {self.age} anos de idade\"\n",
    "    \n",
    "    def speak(self,sound):\n",
    "        return f\"{self.name} diz {sound}\""
   ]
  },
  {
   "cell_type": "code",
   "execution_count": 16,
   "id": "a7d90903",
   "metadata": {
    "ExecuteTime": {
     "end_time": "2024-02-27T20:50:59.244695Z",
     "start_time": "2024-02-27T20:50:59.224853Z"
    }
   },
   "outputs": [
    {
     "name": "stdout",
     "output_type": "stream",
     "text": [
      "Olaf tem 2 anos de idade\n"
     ]
    },
    {
     "data": {
      "text/plain": [
       "\"Olaf diz 'Bora passear!'\""
      ]
     },
     "execution_count": 16,
     "metadata": {},
     "output_type": "execute_result"
    }
   ],
   "source": [
    "olaf = Dog(\"Olaf\",2)\n",
    "print(olaf)\n",
    "olaf.speak(\"'Bora passear!'\")"
   ]
  },
  {
   "cell_type": "markdown",
   "id": "431dc215",
   "metadata": {},
   "source": [
    "## Herança"
   ]
  },
  {
   "cell_type": "markdown",
   "id": "b2afa29c",
   "metadata": {},
   "source": [
    "### Exemplo minimalista"
   ]
  },
  {
   "cell_type": "code",
   "execution_count": 18,
   "id": "ead1c355",
   "metadata": {
    "ExecuteTime": {
     "end_time": "2024-02-27T20:54:01.136440Z",
     "start_time": "2024-02-27T20:54:01.118676Z"
    }
   },
   "outputs": [
    {
     "name": "stdout",
     "output_type": "stream",
     "text": [
      "brown\n"
     ]
    }
   ],
   "source": [
    "class Parent:\n",
    "    hair_color = \"brown\"\n",
    "    \n",
    "class Child(Parent):\n",
    "    pass\n",
    "\n",
    "child = Child()\n",
    "print(child.hair_color)"
   ]
  },
  {
   "cell_type": "markdown",
   "id": "eab696a0",
   "metadata": {},
   "source": [
    "### Sobrescrevendo atributos"
   ]
  },
  {
   "cell_type": "code",
   "execution_count": 19,
   "id": "c5244079",
   "metadata": {
    "ExecuteTime": {
     "end_time": "2024-02-27T20:55:07.037075Z",
     "start_time": "2024-02-27T20:55:07.027992Z"
    }
   },
   "outputs": [
    {
     "name": "stdout",
     "output_type": "stream",
     "text": [
      "purple\n"
     ]
    }
   ],
   "source": [
    "class Child(Parent):\n",
    "    hair_color = 'purple'\n",
    "    pass\n",
    "\n",
    "child = Child()\n",
    "print(child.hair_color)"
   ]
  },
  {
   "cell_type": "markdown",
   "id": "b251145f",
   "metadata": {},
   "source": [
    "### Exemplo da utilidade de herança: cães"
   ]
  },
  {
   "cell_type": "code",
   "execution_count": 20,
   "id": "aaf86867",
   "metadata": {
    "ExecuteTime": {
     "end_time": "2024-02-27T20:56:54.133334Z",
     "start_time": "2024-02-27T20:56:54.125343Z"
    }
   },
   "outputs": [],
   "source": [
    "class Dog:\n",
    "    species = \"Canis familiaris\"\n",
    "\n",
    "    def __init__(self, name, age, breed):\n",
    "        self.name = name\n",
    "        self.age = age\n",
    "        #acrescentando a raça:\n",
    "        self.breed = breed\n",
    "\n",
    "    def __str__(self):\n",
    "        return f\"{self.name} tem {self.age} anos de idade\"\n",
    "\n",
    "    def speak(self, sound):\n",
    "        return f\"{self.name} diz {sound}\""
   ]
  },
  {
   "cell_type": "code",
   "execution_count": 21,
   "id": "cd3803f5",
   "metadata": {
    "ExecuteTime": {
     "end_time": "2024-02-27T20:57:31.939217Z",
     "start_time": "2024-02-27T20:57:31.925404Z"
    }
   },
   "outputs": [],
   "source": [
    "olaf = Dog(\"Olaf\", 2, \"Maltes\")\n",
    "buddy = Dog(\"Buddy\", 9, \"Dachshund\")\n",
    "jack = Dog(\"Jack\", 3, \"Bulldog\")\n",
    "jim = Dog(\"Jim\", 5, \"Bulldog\")"
   ]
  },
  {
   "cell_type": "code",
   "execution_count": 23,
   "id": "1a310c01",
   "metadata": {
    "ExecuteTime": {
     "end_time": "2024-02-27T20:58:22.018323Z",
     "start_time": "2024-02-27T20:58:21.999456Z"
    }
   },
   "outputs": [
    {
     "data": {
      "text/plain": [
       "'Olaf diz Yap'"
      ]
     },
     "execution_count": 23,
     "metadata": {},
     "output_type": "execute_result"
    }
   ],
   "source": [
    "olaf.speak(\"Yap\")"
   ]
  },
  {
   "cell_type": "code",
   "execution_count": 24,
   "id": "43034fe3",
   "metadata": {
    "ExecuteTime": {
     "end_time": "2024-02-27T20:58:26.647515Z",
     "start_time": "2024-02-27T20:58:26.639427Z"
    }
   },
   "outputs": [
    {
     "data": {
      "text/plain": [
       "'Jim diz Woof'"
      ]
     },
     "execution_count": 24,
     "metadata": {},
     "output_type": "execute_result"
    }
   ],
   "source": [
    "jim.speak(\"Woof\")"
   ]
  },
  {
   "cell_type": "code",
   "execution_count": 25,
   "id": "c119dc77",
   "metadata": {
    "ExecuteTime": {
     "end_time": "2024-02-27T20:58:31.479636Z",
     "start_time": "2024-02-27T20:58:31.470071Z"
    }
   },
   "outputs": [
    {
     "data": {
      "text/plain": [
       "'Jack diz Woof'"
      ]
     },
     "execution_count": 25,
     "metadata": {},
     "output_type": "execute_result"
    }
   ],
   "source": [
    "jack.speak(\"Woof\")"
   ]
  },
  {
   "cell_type": "markdown",
   "id": "edb75b06",
   "metadata": {},
   "source": [
    "Acrescentar o som para cada instância é problemático, ao invés disso, podemos fazer classes filhas para cada raça que herdem os atributos da classe mãe Dog"
   ]
  },
  {
   "cell_type": "code",
   "execution_count": 50,
   "id": "e559d1e1",
   "metadata": {
    "ExecuteTime": {
     "end_time": "2024-02-27T21:17:37.293130Z",
     "start_time": "2024-02-27T21:17:37.284434Z"
    }
   },
   "outputs": [],
   "source": [
    "class Dog:\n",
    "    species = \"Canis familiaris\"\n",
    "    \n",
    "    def __init__(self, name, age):\n",
    "        self.name=name\n",
    "        self.age=age\n",
    "    \n",
    "    def __str__(self):\n",
    "        return f\"{self.name} tem {self.age} anos de idade\"\n",
    "    \n",
    "    def speak(self,sound):\n",
    "        return f\"{self.name} diz {sound}\""
   ]
  },
  {
   "cell_type": "code",
   "execution_count": 46,
   "id": "f462d8ca",
   "metadata": {
    "ExecuteTime": {
     "end_time": "2024-02-27T21:17:18.317301Z",
     "start_time": "2024-02-27T21:17:18.300531Z"
    }
   },
   "outputs": [],
   "source": [
    "class Maltes(Dog):\n",
    "    pass\n",
    "\n",
    "class Dachshund(Dog):\n",
    "    pass\n",
    "\n",
    "class Bulldog(Dog):\n",
    "    pass"
   ]
  },
  {
   "cell_type": "code",
   "execution_count": 28,
   "id": "517e2cd8",
   "metadata": {
    "ExecuteTime": {
     "end_time": "2024-02-27T21:07:56.091875Z",
     "start_time": "2024-02-27T21:07:56.075232Z"
    }
   },
   "outputs": [],
   "source": [
    "olaf = Maltes(\"Olaf\", 2)\n",
    "buddy = Dachshund(\"Buddy\", 9)\n",
    "jack = Bulldog(\"Jack\", 3)\n",
    "jim = Bulldog(\"Jim\", 5)"
   ]
  },
  {
   "cell_type": "markdown",
   "id": "4f66f112",
   "metadata": {},
   "source": [
    "Podemos checar o tipo da instância:"
   ]
  },
  {
   "cell_type": "code",
   "execution_count": 31,
   "id": "7f7c1361",
   "metadata": {
    "ExecuteTime": {
     "end_time": "2024-02-27T21:08:20.284991Z",
     "start_time": "2024-02-27T21:08:20.267815Z"
    }
   },
   "outputs": [
    {
     "data": {
      "text/plain": [
       "__main__.Bulldog"
      ]
     },
     "execution_count": 31,
     "metadata": {},
     "output_type": "execute_result"
    }
   ],
   "source": [
    "type(jim)"
   ]
  },
  {
   "cell_type": "markdown",
   "id": "12b1fde1",
   "metadata": {},
   "source": [
    "E podemos checar se um objeto é instância de uma classe:"
   ]
  },
  {
   "cell_type": "code",
   "execution_count": 34,
   "id": "36a16e7d",
   "metadata": {
    "ExecuteTime": {
     "end_time": "2024-02-27T21:09:06.992365Z",
     "start_time": "2024-02-27T21:09:06.963732Z"
    }
   },
   "outputs": [
    {
     "data": {
      "text/plain": [
       "True"
      ]
     },
     "execution_count": 34,
     "metadata": {},
     "output_type": "execute_result"
    }
   ],
   "source": [
    "isinstance(olaf,Maltes)"
   ]
  },
  {
   "cell_type": "markdown",
   "id": "db7e441b",
   "metadata": {},
   "source": [
    "Se o objeto é instância da classe filha, é também da classe mãe:"
   ]
  },
  {
   "cell_type": "code",
   "execution_count": 33,
   "id": "e6417f07",
   "metadata": {
    "ExecuteTime": {
     "end_time": "2024-02-27T21:08:53.608362Z",
     "start_time": "2024-02-27T21:08:53.595497Z"
    }
   },
   "outputs": [
    {
     "data": {
      "text/plain": [
       "True"
      ]
     },
     "execution_count": 33,
     "metadata": {},
     "output_type": "execute_result"
    }
   ],
   "source": [
    "isinstance(olaf,Dog)"
   ]
  },
  {
   "cell_type": "markdown",
   "id": "0e3c0703",
   "metadata": {},
   "source": [
    "## Estendendo a utilidade da herança:"
   ]
  },
  {
   "cell_type": "markdown",
   "id": "bc6a0505",
   "metadata": {},
   "source": [
    "Vamos sobreescrever o método speak da classe maltês usando um som padrão:"
   ]
  },
  {
   "cell_type": "code",
   "execution_count": 36,
   "id": "96fa8305",
   "metadata": {
    "ExecuteTime": {
     "end_time": "2024-02-27T21:13:57.707505Z",
     "start_time": "2024-02-27T21:13:57.694529Z"
    }
   },
   "outputs": [],
   "source": [
    "class Maltes(Dog):\n",
    "    def speak(self, sound=\"Bah\"):\n",
    "        return f\"{self.name} says {sound}\""
   ]
  },
  {
   "cell_type": "code",
   "execution_count": 38,
   "id": "005b4170",
   "metadata": {
    "ExecuteTime": {
     "end_time": "2024-02-27T21:14:09.988934Z",
     "start_time": "2024-02-27T21:14:09.974249Z"
    }
   },
   "outputs": [],
   "source": [
    "olaf = Maltes('Olaf',2)"
   ]
  },
  {
   "cell_type": "code",
   "execution_count": 51,
   "id": "2d4bb86a",
   "metadata": {
    "ExecuteTime": {
     "end_time": "2024-02-27T21:17:39.117935Z",
     "start_time": "2024-02-27T21:17:39.107930Z"
    }
   },
   "outputs": [
    {
     "data": {
      "text/plain": [
       "'Olaf says Bah'"
      ]
     },
     "execution_count": 51,
     "metadata": {},
     "output_type": "execute_result"
    }
   ],
   "source": [
    "olaf.speak()"
   ]
  },
  {
   "cell_type": "markdown",
   "id": "0a9c2f2a",
   "metadata": {},
   "source": [
    "Mudanças nas classes mães **automaticamente** se propagam para as classes filhas, a menos que os métodos estejam sobrescritos. P.ex:"
   ]
  },
  {
   "cell_type": "markdown",
   "id": "bd5c64a0",
   "metadata": {},
   "source": [
    "Às vezes faz sentido sobrescrever completamente o método de uma classe mãe. Mas quando não queremos perder mudanças que possam ter ocorrido na definição da classe mãe, o ideal é referenciar o método da classe mãe. Podemos fazer essa referência a partir da palavra super():"
   ]
  },
  {
   "cell_type": "code",
   "execution_count": 52,
   "id": "048cd916",
   "metadata": {
    "ExecuteTime": {
     "end_time": "2024-02-27T21:21:48.690818Z",
     "start_time": "2024-02-27T21:21:48.684720Z"
    }
   },
   "outputs": [],
   "source": [
    "class Maltes(Dog):\n",
    "    def speak(self, sound=\"Bah\"):\n",
    "        return super().speak(sound)"
   ]
  },
  {
   "cell_type": "markdown",
   "id": "29a0e896",
   "metadata": {},
   "source": [
    "# Dia 3\n",
    "* Relembrando conceitos\n",
    "* ..."
   ]
  },
  {
   "cell_type": "code",
   "execution_count": 2,
   "id": "84ab676d",
   "metadata": {
    "ExecuteTime": {
     "end_time": "2024-02-28T20:55:25.980691Z",
     "start_time": "2024-02-28T20:55:25.976359Z"
    }
   },
   "outputs": [],
   "source": [
    "class Dog():\n",
    "    species = 'Canis Familiaris'"
   ]
  },
  {
   "cell_type": "code",
   "execution_count": 1072,
   "id": "1c5c93fa",
   "metadata": {
    "ExecuteTime": {
     "end_time": "2024-02-28T20:56:26.867549Z",
     "start_time": "2024-02-28T20:56:26.857547Z"
    }
   },
   "outputs": [
    {
     "data": {
      "text/plain": [
       "<__main__.Dog at 0x1ea8903da60>"
      ]
     },
     "execution_count": 1072,
     "metadata": {},
     "output_type": "execute_result"
    }
   ],
   "source": []
  }
 ],
 "metadata": {
  "kernelspec": {
   "display_name": "Python 3 (ipykernel)",
   "language": "python",
   "name": "python3"
  },
  "language_info": {
   "codemirror_mode": {
    "name": "ipython",
    "version": 3
   },
   "file_extension": ".py",
   "mimetype": "text/x-python",
   "name": "python",
   "nbconvert_exporter": "python",
   "pygments_lexer": "ipython3",
   "version": "3.9.18"
  }
 },
 "nbformat": 4,
 "nbformat_minor": 5
}
